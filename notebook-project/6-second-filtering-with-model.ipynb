{
 "cells": [
  {
   "cell_type": "markdown",
   "id": "81bf86ae",
   "metadata": {},
   "source": [
    "### 오픈 데이터\n",
    "\n",
    "- 혐오 표현 데이터 참고: https://github.com/songys/AwesomeKorean_Data?tab=readme-ov-file\n",
    "- K-MHaS 한국어 혐오 표현 데이터: https://github.com/adlnlp/K-MHaS\n",
    "- 모델 변경 시 참고: https://github.com/Beomi/KcELECTRA"
   ]
  },
  {
   "cell_type": "code",
   "execution_count": 1,
   "id": "c3b841f5",
   "metadata": {},
   "outputs": [
    {
     "name": "stderr",
     "output_type": "stream",
     "text": [
      "Using custom data configuration default\n",
      "Reusing dataset kmhas (/home/u4012/.cache/huggingface/datasets/jeanlee___kmhas/default/1.0.0/17406fbed45548c92e0795df0675e21fb2a09ceaa098bd5ff58c7fdc7f8a63d4)\n"
     ]
    },
    {
     "data": {
      "application/vnd.jupyter.widget-view+json": {
       "model_id": "513b8ab6667c4194960d412c33af79c7",
       "version_major": 2,
       "version_minor": 0
      },
      "text/plain": [
       "  0%|          | 0/3 [00:00<?, ?it/s]"
      ]
     },
     "metadata": {},
     "output_type": "display_data"
    }
   ],
   "source": [
    "from datasets import load_dataset\n",
    "\n",
    "dataset = load_dataset(\"jeanlee/kmhas_korean_hate_speech\")"
   ]
  },
  {
   "cell_type": "code",
   "execution_count": 2,
   "id": "5d68248e",
   "metadata": {},
   "outputs": [
    {
     "name": "stdout",
     "output_type": "stream",
     "text": [
      "DatasetDict({\n",
      "    train: Dataset({\n",
      "        features: ['text', 'label'],\n",
      "        num_rows: 78977\n",
      "    })\n",
      "    validation: Dataset({\n",
      "        features: ['text', 'label'],\n",
      "        num_rows: 8776\n",
      "    })\n",
      "    test: Dataset({\n",
      "        features: ['text', 'label'],\n",
      "        num_rows: 21939\n",
      "    })\n",
      "})\n",
      "{'text': Value(dtype='string', id=None), 'label': Sequence(feature=ClassLabel(num_classes=9, names=['origin', 'physical', 'politics', 'profanity', 'age', 'gender', 'race', 'religion', 'not_hate_speech'], names_file=None, id=None), length=-1, id=None)}\n"
     ]
    }
   ],
   "source": [
    "print(dataset)\n",
    "print(dataset[\"train\"].features)"
   ]
  },
  {
   "cell_type": "code",
   "execution_count": 4,
   "id": "e05967fd",
   "metadata": {},
   "outputs": [
    {
     "data": {
      "application/vnd.jupyter.widget-view+json": {
       "model_id": "ca9e215ea1744404acb3138fb3aade34",
       "version_major": 2,
       "version_minor": 0
      },
      "text/plain": [
       "  0%|          | 0/78977 [00:00<?, ?ex/s]"
      ]
     },
     "metadata": {},
     "output_type": "display_data"
    },
    {
     "data": {
      "application/vnd.jupyter.widget-view+json": {
       "model_id": "4fa2a89f255a40ec83cbb86e5f211808",
       "version_major": 2,
       "version_minor": 0
      },
      "text/plain": [
       "  0%|          | 0/8776 [00:00<?, ?ex/s]"
      ]
     },
     "metadata": {},
     "output_type": "display_data"
    },
    {
     "data": {
      "application/vnd.jupyter.widget-view+json": {
       "model_id": "65e06a234a6d436f97df1075ee9e8e53",
       "version_major": 2,
       "version_minor": 0
      },
      "text/plain": [
       "  0%|          | 0/21939 [00:00<?, ?ex/s]"
      ]
     },
     "metadata": {},
     "output_type": "display_data"
    }
   ],
   "source": [
    "def flatten_labels(example):\n",
    "    return {\"label\": example[\"label\"][0] if isinstance(example[\"label\"], list) else example[\"label\"]}\n",
    "\n",
    "dataset = dataset.map(flatten_labels)"
   ]
  },
  {
   "cell_type": "code",
   "execution_count": 5,
   "id": "3b50590c",
   "metadata": {},
   "outputs": [
    {
     "name": "stderr",
     "output_type": "stream",
     "text": [
      "Some weights of ElectraForSequenceClassification were not initialized from the model checkpoint at beomi/KcELECTRA-small-v2022 and are newly initialized: ['classifier.dense.bias', 'classifier.dense.weight', 'classifier.out_proj.bias', 'classifier.out_proj.weight']\n",
      "You should probably TRAIN this model on a down-stream task to be able to use it for predictions and inference.\n"
     ]
    }
   ],
   "source": [
    "from transformers import AutoTokenizer, AutoModelForSequenceClassification\n",
    "\n",
    "model_name = \"beomi/KcELECTRA-small-v2022\"\n",
    "tokenizer = AutoTokenizer.from_pretrained(model_name)\n",
    "model = AutoModelForSequenceClassification.from_pretrained(model_name, num_labels=9)"
   ]
  },
  {
   "cell_type": "code",
   "execution_count": 6,
   "id": "6c676e56",
   "metadata": {},
   "outputs": [
    {
     "data": {
      "application/vnd.jupyter.widget-view+json": {
       "model_id": "b6f7263631ee448ca984139e15de7224",
       "version_major": 2,
       "version_minor": 0
      },
      "text/plain": [
       "  0%|          | 0/79 [00:00<?, ?ba/s]"
      ]
     },
     "metadata": {},
     "output_type": "display_data"
    },
    {
     "data": {
      "application/vnd.jupyter.widget-view+json": {
       "model_id": "9b6d0d3eacea43c6934facb83cb104fc",
       "version_major": 2,
       "version_minor": 0
      },
      "text/plain": [
       "  0%|          | 0/9 [00:00<?, ?ba/s]"
      ]
     },
     "metadata": {},
     "output_type": "display_data"
    },
    {
     "data": {
      "application/vnd.jupyter.widget-view+json": {
       "model_id": "e22d6a369c824f3b97b7653acc61e9dc",
       "version_major": 2,
       "version_minor": 0
      },
      "text/plain": [
       "  0%|          | 0/22 [00:00<?, ?ba/s]"
      ]
     },
     "metadata": {},
     "output_type": "display_data"
    }
   ],
   "source": [
    "def preprocess_function(examples):\n",
    "    tokenized = tokenizer(\n",
    "        examples[\"text\"],\n",
    "        padding=\"max_length\",\n",
    "        truncation=True,\n",
    "        max_length=128,\n",
    "        add_special_tokens=True,\n",
    "        stride=32,\n",
    "    )\n",
    "    \n",
    "    return {\n",
    "        \"input_ids\": tokenized[\"input_ids\"],\n",
    "        \"attention_mask\": tokenized[\"attention_mask\"],\n",
    "        \"labels\": examples[\"label\"],\n",
    "    }\n",
    "\n",
    "# 데이터셋 전처리\n",
    "tokenized_datasets = dataset.map(preprocess_function, batched=True)"
   ]
  },
  {
   "cell_type": "code",
   "execution_count": 7,
   "id": "e848a70d",
   "metadata": {},
   "outputs": [
    {
     "name": "stderr",
     "output_type": "stream",
     "text": [
      "huggingface/tokenizers: The current process just got forked, after parallelism has already been used. Disabling parallelism to avoid deadlocks...\n",
      "To disable this warning, you can either:\n",
      "\t- Avoid using `tokenizers` before the fork if possible\n",
      "\t- Explicitly set the environment variable TOKENIZERS_PARALLELISM=(true | false)\n"
     ]
    }
   ],
   "source": [
    "from transformers import Trainer, TrainingArguments\n",
    "\n",
    "# TrainingArguments 설정\n",
    "training_args = TrainingArguments(\n",
    "    output_dir=\"./results\",            # 모델 저장 경로\n",
    "    eval_strategy=\"epoch\",            # 매 에포크마다 평가\n",
    "    save_strategy=\"epoch\",            # 매 에포크마다 저장\n",
    "    learning_rate=5e-5,               # 학습률\n",
    "    per_device_train_batch_size=2,   # 학습 중 GPU/CPU당 처리할 배치 크기\n",
    "    per_device_eval_batch_size=8,    # 평가 중 GPU/CPU당 처리할 배치 크기\n",
    "    num_train_epochs=3,               # 학습할 에포크 수\n",
    "    weight_decay=0.01,                # 가중치 감소 - 모델 과적합 방지\n",
    "    logging_dir=\"./logs\",             # 로그 저장 경로\n",
    "    logging_steps=500,                # 몇 개의 스텝마다 로그를 기록할지\n",
    "    save_total_limit=2,               # 저장할 체크포인트 개수 제한\n",
    "    load_best_model_at_end=True,      # 최적의 모델 로드\n",
    "    gradient_accumulation_steps=8,\n",
    "    fp16=True,\n",
    ")"
   ]
  },
  {
   "cell_type": "code",
   "execution_count": 8,
   "id": "7892e575",
   "metadata": {},
   "outputs": [
    {
     "name": "stdout",
     "output_type": "stream",
     "text": [
      "{0, 1, 2, 3, 4, 5, 6, 7, 8}\n"
     ]
    }
   ],
   "source": [
    "# 'train' 데이터셋에서 'labels' 값 확인\n",
    "print(set(tokenized_datasets[\"train\"][\"labels\"]))"
   ]
  },
  {
   "cell_type": "code",
   "execution_count": 9,
   "id": "5bcca186",
   "metadata": {},
   "outputs": [
    {
     "name": "stderr",
     "output_type": "stream",
     "text": [
      "/tmp/ipykernel_3688938/812547745.py:4: FutureWarning: `tokenizer` is deprecated and will be removed in version 5.0.0 for `Trainer.__init__`. Use `processing_class` instead.\n",
      "  trainer = Trainer(\n"
     ]
    },
    {
     "data": {
      "text/html": [
       "\n",
       "    <div>\n",
       "      \n",
       "      <progress value='14808' max='14808' style='width:300px; height:20px; vertical-align: middle;'></progress>\n",
       "      [14808/14808 49:35, Epoch 2/3]\n",
       "    </div>\n",
       "    <table border=\"1\" class=\"dataframe\">\n",
       "  <thead>\n",
       " <tr style=\"text-align: left;\">\n",
       "      <th>Epoch</th>\n",
       "      <th>Training Loss</th>\n",
       "      <th>Validation Loss</th>\n",
       "    </tr>\n",
       "  </thead>\n",
       "  <tbody>\n",
       "    <tr>\n",
       "      <td>0</td>\n",
       "      <td>0.542400</td>\n",
       "      <td>0.486197</td>\n",
       "    </tr>\n",
       "    <tr>\n",
       "      <td>1</td>\n",
       "      <td>0.442200</td>\n",
       "      <td>0.449231</td>\n",
       "    </tr>\n",
       "    <tr>\n",
       "      <td>2</td>\n",
       "      <td>0.347400</td>\n",
       "      <td>0.427744</td>\n",
       "    </tr>\n",
       "  </tbody>\n",
       "</table><p>"
      ],
      "text/plain": [
       "<IPython.core.display.HTML object>"
      ]
     },
     "metadata": {},
     "output_type": "display_data"
    },
    {
     "data": {
      "text/plain": [
       "TrainOutput(global_step=14808, training_loss=0.5450101061037332, metrics={'train_runtime': 2975.6399, 'train_samples_per_second': 79.624, 'train_steps_per_second': 4.976, 'total_flos': 1742896800483840.0, 'train_loss': 0.5450101061037332, 'epoch': 2.999924029476563})"
      ]
     },
     "execution_count": 9,
     "metadata": {},
     "output_type": "execute_result"
    }
   ],
   "source": [
    "from transformers import Trainer\n",
    "\n",
    "# Trainer 정의\n",
    "trainer = Trainer(\n",
    "    model=model,\n",
    "    args=training_args,\n",
    "    train_dataset=tokenized_datasets[\"train\"],\n",
    "    eval_dataset=tokenized_datasets[\"validation\"],\n",
    "    tokenizer=tokenizer,\n",
    ")\n",
    "\n",
    "# 모델 학습\n",
    "trainer.train()"
   ]
  },
  {
   "cell_type": "code",
   "execution_count": 10,
   "id": "b5d24a12",
   "metadata": {},
   "outputs": [
    {
     "data": {
      "text/html": [
       "\n",
       "    <div>\n",
       "      \n",
       "      <progress value='2743' max='2743' style='width:300px; height:20px; vertical-align: middle;'></progress>\n",
       "      [2743/2743 00:22]\n",
       "    </div>\n",
       "    "
      ],
      "text/plain": [
       "<IPython.core.display.HTML object>"
      ]
     },
     "metadata": {},
     "output_type": "display_data"
    },
    {
     "name": "stdout",
     "output_type": "stream",
     "text": [
      "{'eval_loss': 0.4352250397205353, 'eval_runtime': 22.6258, 'eval_samples_per_second': 969.645, 'eval_steps_per_second': 121.233, 'epoch': 2.999924029476563}\n"
     ]
    }
   ],
   "source": [
    "# 평가\n",
    "results = trainer.evaluate(tokenized_datasets[\"test\"])\n",
    "print(results)"
   ]
  },
  {
   "cell_type": "code",
   "execution_count": null,
   "id": "f948df4c",
   "metadata": {},
   "outputs": [
    {
     "data": {
      "text/plain": [
       "('./hate_speech_classification_model/tokenizer_config.json',\n",
       " './hate_speech_classification_model/special_tokens_map.json',\n",
       " './hate_speech_classification_model/vocab.txt',\n",
       " './hate_speech_classification_model/added_tokens.json',\n",
       " './hate_speech_classification_model/tokenizer.json')"
      ]
     },
     "execution_count": 11,
     "metadata": {},
     "output_type": "execute_result"
    }
   ],
   "source": [
    "# 모델과 토크나이저 저장\n",
    "model.save_pretrained(\"./hate_speech_model\")\n",
    "tokenizer.save_pretrained(\"./hate_speech_model\")"
   ]
  },
  {
   "cell_type": "code",
   "execution_count": null,
   "id": "ee6a8c7f",
   "metadata": {},
   "outputs": [],
   "source": [
    "from transformers import AutoTokenizer, AutoModelForSequenceClassification\n",
    "import torch\n",
    "\n",
    "# 예측 수행 함수\n",
    "def predict(texts):\n",
    "    model = AutoModelForSequenceClassification.from_pretrained(\"./hate_speech_classification_model\")\n",
    "    tokenizer = AutoTokenizer.from_pretrained(\"./hate_speech_classification_model\")\n",
    "\n",
    "    # 입력 데이터 토크나이징 및 디바이스 이동\n",
    "    encodings = tokenizer(\n",
    "        texts,\n",
    "        padding=True,\n",
    "        truncation=True,\n",
    "        max_length=128,\n",
    "        return_tensors=\"pt\",\n",
    "        add_special_tokens=True,\n",
    "        stride=32,\n",
    "    )\n",
    "\n",
    "    # 모델 추론\n",
    "    with torch.no_grad():  # 예측 시에는 Gradient 계산 비활성화\n",
    "        outputs = model(\n",
    "            input_ids=encodings[\"input_ids\"],\n",
    "            attention_mask=encodings[\"attention_mask\"]\n",
    "        )\n",
    "    logits = outputs.logits\n",
    "\n",
    "    probabilities = torch.softmax(logits, dim=-1).numpy()\n",
    "\n",
    "    # 클래스와 확률 추출\n",
    "    predictions = []\n",
    "    for text, prob in zip(texts, probabilities):\n",
    "        max_prob = max(prob)  # 가장 높은 확률\n",
    "        max_label = prob.argmax()  # 가장 높은 확률의 클래스(숫자)\n",
    "        predictions.append({\"text\": text, \"label\": max_label, \"probability\": max_prob})\n",
    "\n",
    "    return predictions"
   ]
  }
 ],
 "metadata": {
  "kernelspec": {
   "display_name": "Python 3 (ipykernel)",
   "language": "python",
   "name": "python3"
  },
  "language_info": {
   "codemirror_mode": {
    "name": "ipython",
    "version": 3
   },
   "file_extension": ".py",
   "mimetype": "text/x-python",
   "name": "python",
   "nbconvert_exporter": "python",
   "pygments_lexer": "ipython3",
   "version": "3.8.10"
  }
 },
 "nbformat": 4,
 "nbformat_minor": 5
}
