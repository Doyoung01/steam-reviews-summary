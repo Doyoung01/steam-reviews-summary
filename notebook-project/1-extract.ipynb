{
 "cells": [
  {
   "cell_type": "code",
   "execution_count": 16,
   "id": "fd669123",
   "metadata": {},
   "outputs": [],
   "source": [
    "import requests\n",
    "import time\n",
    "import pandas as pd\n",
    "import glob\n",
    "import json"
   ]
  },
  {
   "cell_type": "markdown",
   "id": "35893e34",
   "metadata": {},
   "source": [
    "## STEAM Game ID 불러오기"
   ]
  },
  {
   "cell_type": "code",
   "execution_count": 10,
   "id": "e0be3ca7",
   "metadata": {},
   "outputs": [],
   "source": [
    "def get_game_app_id(game_url):\n",
    "    app_id = game_url.split('/')[-3]\n",
    "\n",
    "    return app_id"
   ]
  },
  {
   "cell_type": "code",
   "execution_count": 11,
   "id": "670cd15a",
   "metadata": {},
   "outputs": [
    {
     "data": {
      "text/plain": [
       "'477160'"
      ]
     },
     "execution_count": 11,
     "metadata": {},
     "output_type": "execute_result"
    }
   ],
   "source": [
    "game_url = 'https://store.steampowered.com/app/477160/Human_Fall_Flat/'\n",
    "get_game_app_id(game_url)"
   ]
  },
  {
   "cell_type": "markdown",
   "id": "e54e0c08",
   "metadata": {},
   "source": [
    "## OpenAPI를 통한 데이터 수집 및 살펴보기"
   ]
  },
  {
   "cell_type": "code",
   "execution_count": 12,
   "id": "c7c53b29",
   "metadata": {},
   "outputs": [],
   "source": [
    "def get_steam_reviews(app_id, num_per_page=100, delay=1.0):\n",
    "    cursor = '*'  # 첫 요청에서는 '*'를 사용하거나 생략 가능\n",
    "    reviews = []\n",
    "\n",
    "    while True:\n",
    "        url = f\"https://store.steampowered.com/appreviews/{app_id}?json=1\"\n",
    "        params = {\n",
    "            'num_per_page': num_per_page,  # 한 번의 요청으로 가져올 수 있는 리뷰의 최대 개수\n",
    "            'cursor': cursor,  # 페이지 네이션 처리를 위함\n",
    "            'filter': 'updated',  # 최신 리뷰부터 가져오도록 설정\n",
    "            'language': 'koreana',  # 한국어 리뷰만 가져옴\n",
    "            'review_type': 'all',\n",
    "            'purchase_type': 'all',\n",
    "        }\n",
    "\n",
    "        try:\n",
    "            response = requests.get(url, params=params, timeout=10)  # 타임아웃 10초 설정\n",
    "            data = response.json()\n",
    "        except requests.exceptions.RequestException as e:\n",
    "            print(f\"Request failed: {e}\")\n",
    "            break\n",
    "\n",
    "        if data.get('success') != 1:\n",
    "            print(\"API 호출 실패\")\n",
    "            break\n",
    "\n",
    "        new_reviews = data.get('reviews', [])\n",
    "        reviews.extend(new_reviews)  # 리뷰 데이터 추가\n",
    "\n",
    "        # 다음 페이지로 이동하기 위한 cursor 업데이트\n",
    "        cursor = data.get('cursor')\n",
    "\n",
    "        # 리뷰가 더 이상 없거나 불러온 리뷰 개수가 적으면 중단\n",
    "        if not cursor or len(new_reviews) < num_per_page:\n",
    "            break\n",
    "\n",
    "        # 너무 빠르게 요청하면 서버에서 차단될 수 있으니, 지연시간 추가\n",
    "        time.sleep(delay)\n",
    "\n",
    "    return reviews"
   ]
  },
  {
   "cell_type": "code",
   "execution_count": 9,
   "id": "79a91b54",
   "metadata": {},
   "outputs": [
    {
     "name": "stdout",
     "output_type": "stream",
     "text": [
      "총 리뷰 개수: 10014\n"
     ]
    }
   ],
   "source": [
    "all_reviews = get_steam_reviews(get_game_app_id(game_url))\n",
    "\n",
    "# 리뷰 개수 출력\n",
    "print(f\"총 리뷰 개수: {len(all_reviews)}\")"
   ]
  },
  {
   "cell_type": "code",
   "execution_count": 10,
   "id": "3923cc8b",
   "metadata": {},
   "outputs": [
    {
     "name": "stdout",
     "output_type": "stream",
     "text": [
      "{'recommendationid': '178417609', 'author': {'steamid': '76561198195367613', 'num_games_owned': 0, 'num_reviews': 23, 'playtime_forever': 3444, 'playtime_last_two_weeks': 0, 'playtime_at_review': 3444, 'last_played': 1727765993}, 'language': 'koreana', 'review': 'Good game', 'timestamp_created': 1730768512, 'timestamp_updated': 1730768512, 'voted_up': True, 'votes_up': 0, 'votes_funny': 0, 'weighted_vote_score': 0, 'comment_count': 0, 'steam_purchase': False, 'received_for_free': False, 'written_during_early_access': False, 'primarily_steam_deck': False}\n"
     ]
    }
   ],
   "source": [
    "print(all_reviews[1])"
   ]
  },
  {
   "cell_type": "markdown",
   "id": "9e0d7a0b",
   "metadata": {},
   "source": [
    "### all_reviews 주요 key-value 설명\n",
    "1. **`recommendationid`**: 리뷰의 고유 ID. \n",
    "2. **`author`**: 리뷰 작성자에 관한 정보\n",
    "     - **`steamid`**: 작성자의 고유 Steam ID\n",
    "     - **`num_games_owned`**: 작성자가 소유한 총 게임 수\n",
    "     - **`num_reviews`**: 작성자가 작성한 전체 리뷰 수\n",
    "     - **`playtime_forever`**: 작성자가 이 게임에서 누적한 총 플레이 시간(분 단위)\n",
    "     - **`playtime_last_two_weeks`**: 최근 2주 동안의 플레이 시간(분 단위)\n",
    "     - **`playtime_at_review`**: 이 리뷰를 작성할 당시의 플레이 시간(분 단위)\n",
    "     - **`last_played`**: 작성자가 마지막으로 이 게임을 플레이한 시점을 유닉스 타임스탬프 형식으로 표현\n",
    "3. **`language`**: 리뷰가 작성된 언어.  **`koreana`**=한국어\n",
    "4. **`review`**: 작성자가 남긴 리뷰 텍스트입니다.\n",
    "5. **`timestamp_created`**: 리뷰가 처음 작성된 시점, 유닉스 타임스탬프 형식\n",
    "6. **`timestamp_updated`**: 리뷰가 마지막으로 수정된 시점, 유닉스 타임스탬프. 처음 작성 이후 업데이트가 있을 때 업데이트 시간을 기록\n",
    "7. **`voted_up`**: 작성자가 이 게임을 추천했는지 여부를 나타내며, `True`일 경우 추천, `False`일 경우 추천하지 않음\n",
    "8. **`votes_up`**: 다른 사용자들이 이 리뷰를 '유용함'으로 평가한 수\n",
    "9. **`votes_funny`**: 다른 사용자들이 이 리뷰를 '재미있음'으로 평가한 수\n",
    "10. **`weighted_vote_score`**: 리뷰의 가중치가 부여된 평가 점수입니다. 이 값은 유용함, 재미 등 사용자 피드백에 기반하여 가중치가 적용된 점수로 계산됨\n",
    "11. **`comment_count`**: 이 리뷰에 대해 다른 사용자가 남긴 댓글 수\n",
    "12. **`steam_purchase`**: 리뷰 작성자가 게임을 직접 구매한 후 작성한 리뷰인지 여부. `True`이면 직접 구매 후 작성한 리뷰, `False`이면 아닌 경우.\n",
    "13. **`received_for_free`**: 리뷰 작성자가 게임을 무료로 제공받았는지 여부. `True`일 경우 무료로 받았고, `False`일 경우 직접 구매했음을 의미.\n",
    "14. **`written_during_early_access`**: 이 리뷰가 게임의 `얼리 액세스` 기간 동안 작성되었는지 여부. `True`이면 얼리 액세스 중 작성된 리뷰임을 의미.\n",
    "15. **`hidden_in_steam_china`**: 이 리뷰가 Steam의 중국 버전에서 숨겨져 있는지 여부. `True`일 경우 중국 버전에서 이 리뷰가 보이지 않음.\n",
    "16. **`steam_china_location`**: 중국 Steam 사용자에 대한 지역 정보를 나타내는 값이나, 빈 문자열일 경우 지역 정보가 없음을 의미.\n",
    "17. **`primarily_steam_deck`**: 이 리뷰가 Steam Deck 기기에서 주로 작성되었는지 여부. `True`이면 Steam Deck에서 작성된 리뷰."
   ]
  },
  {
   "cell_type": "markdown",
   "id": "0fd0be13",
   "metadata": {},
   "source": [
    "## positive/negative data 차이\n",
    "- `voted_up` key 값이 True면 positive, False면 negative임"
   ]
  },
  {
   "cell_type": "code",
   "execution_count": 13,
   "id": "e510d770",
   "metadata": {},
   "outputs": [],
   "source": [
    "game_url = [\n",
    "    'https://store.steampowered.com/app/1085660/_/', # Destiny 2\n",
    "    'https://store.steampowered.com/app/2357570/_2/', # Overwatch 2\n",
    "    'https://store.steampowered.com/app/1225570/Unravel_Two/', # Unravel Two\n",
    "    'https://store.steampowered.com/app/108600/Project_Zomboid/', # Project Zomboid\n",
    "    'https://store.steampowered.com/app/381210/Dead_by_Daylight/', # Dead by Daylight\n",
    "    'https://store.steampowered.com/app/578080/PUBG_BATTLEGROUNDS/', # Battlegrounds\n",
    "    'https://store.steampowered.com/app/2669320/EA_SPORTS_FC_25/', # EA_SPORTS_FC_25\n",
    "    'https://store.steampowered.com/app/952060/BIOHAZARD_RE3/', # Resident Evil 3\n",
    "    'https://store.steampowered.com/app/275850/No_Mans_Sky/', # No Mans Sky\n",
    "    'https://store.steampowered.com/app/648800/Raft/' # Raft\n",
    "]"
   ]
  },
  {
   "cell_type": "code",
   "execution_count": 14,
   "id": "e25db291",
   "metadata": {},
   "outputs": [],
   "source": [
    "app_ids = [get_game_app_id(url) for url in game_url]\n",
    "game_titles = ['Destiny 2', 'Overwatch 2', 'Unravel Two', 'Project Zomboid', 'Dead by Daylight', 'Battlegrounds', 'EA_SPORTS_FC_25', 'Resident Evil 3', 'No Mans Sky', 'Raft']"
   ]
  },
  {
   "cell_type": "code",
   "execution_count": 9,
   "id": "b1c70830",
   "metadata": {},
   "outputs": [
    {
     "name": "stdout",
     "output_type": "stream",
     "text": [
      "14062\n",
      "3124\n",
      "159\n",
      "9239\n",
      "21863\n",
      "6299\n",
      "99\n",
      "1834\n",
      "2449\n",
      "9346\n"
     ]
    }
   ],
   "source": [
    "for i, v in enumerate(app_ids):\n",
    "    reviews = get_steam_reviews(v)\n",
    "    print(len(reviews))\n",
    "    df = pd.DataFrame(reviews)\n",
    "    df.to_csv(f'./csv_files/steam_reviews_{game_titles[i]}.csv', index=False)"
   ]
  },
  {
   "cell_type": "code",
   "execution_count": null,
   "id": "6a070cb2",
   "metadata": {},
   "outputs": [],
   "source": [
    "for title in game_titles:\n",
    "    df = pd.read_csv(f'./csv_files/steam_reviews_{title}.csv')\n",
    "    \n",
    "    # author 컬럼을 ','를 기준으로 나누기\n",
    "    df['author'] = df['author'].apply(lambda x: json.loads(x.replace(\"'\", '\"')))\n",
    "    \n",
    "    author_df = pd.json_normalize(df['author'])\n",
    "\n",
    "    # author 컬럼 삭제\n",
    "    df = pd.concat([df.drop(columns=['author']), author_df], axis=1)\n",
    "    \n",
    "    df.to_csv(f'./csv_files/steam_reviews_{game_titles[i]}_flatten.csv', index=False)"
   ]
  },
  {
   "cell_type": "code",
   "execution_count": null,
   "id": "6f1f0944",
   "metadata": {},
   "outputs": [],
   "source": [
    "csv_files = glob.glob(f\"./csv_files/steam_reviews_*_flatten.csv\")\n",
    "\n",
    "combined_df = pd.concat([pd.read_csv(file) for file in csv_files], ignore_index=True)\n",
    "\n",
    "combined_df.to_csv('./output.csv', index=False)"
   ]
  },
  {
   "cell_type": "code",
   "execution_count": 18,
   "id": "58e7b1e4",
   "metadata": {},
   "outputs": [],
   "source": [
    "df = pd.read_csv(f'./csv_files/steam_reviews_HFF.csv')\n",
    "    \n",
    "# author 컬럼을 ','를 기준으로 나누기\n",
    "df['author'] = df['author'].apply(lambda x: json.loads(x.replace(\"'\", '\"')))\n",
    "\n",
    "author_df = pd.json_normalize(df['author'])\n",
    "\n",
    "# author 컬럼 삭제\n",
    "df = pd.concat([df.drop(columns=['author']), author_df], axis=1)\n",
    "\n",
    "df.to_parquet(f'./csv_files/steam_reviews_HFF_flatten.parquet', index=False)"
   ]
  },
  {
   "cell_type": "code",
   "execution_count": null,
   "id": "5c5653c9",
   "metadata": {},
   "outputs": [],
   "source": []
  }
 ],
 "metadata": {
  "kernelspec": {
   "display_name": "Python 3 (ipykernel)",
   "language": "python",
   "name": "python3"
  },
  "language_info": {
   "codemirror_mode": {
    "name": "ipython",
    "version": 3
   },
   "file_extension": ".py",
   "mimetype": "text/x-python",
   "name": "python",
   "nbconvert_exporter": "python",
   "pygments_lexer": "ipython3",
   "version": "3.8.10"
  }
 },
 "nbformat": 4,
 "nbformat_minor": 5
}
