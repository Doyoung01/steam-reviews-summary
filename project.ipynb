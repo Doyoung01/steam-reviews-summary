{
 "cells": [
  {
   "cell_type": "code",
   "execution_count": 26,
   "metadata": {},
   "outputs": [],
   "source": [
    "import requests"
   ]
  },
  {
   "cell_type": "code",
   "execution_count": 27,
   "metadata": {},
   "outputs": [],
   "source": [
    "def get_game_app_id(game_url):\n",
    "    app_id = game_url.split('/')[-3]\n",
    "\n",
    "    return app_id"
   ]
  },
  {
   "cell_type": "code",
   "execution_count": 28,
   "metadata": {},
   "outputs": [
    {
     "data": {
      "text/plain": [
       "'477160'"
      ]
     },
     "execution_count": 28,
     "metadata": {},
     "output_type": "execute_result"
    }
   ],
   "source": [
    "game_url = 'https://store.steampowered.com/app/477160/Human_Fall_Flat/'\n",
    "get_game_app_id(game_url)"
   ]
  },
  {
   "cell_type": "code",
   "execution_count": 30,
   "metadata": {},
   "outputs": [
    {
     "name": "stdout",
     "output_type": "stream",
     "text": [
      "총 리뷰 개수: 60\n"
     ]
    }
   ],
   "source": [
    "def get_steam_reviews(app_id, num_per_page=100):\n",
    "    cursor = '*'  # 첫 요청에서는 '*'를 사용하거나 생략 가능\n",
    "    reviews = []\n",
    "\n",
    "    while True:\n",
    "        url = f\"https://store.steampowered.com/appreviews/{app_id}?json=1\"\n",
    "        params = {\n",
    "            'num_per_page': num_per_page, # 한 번의 요청으로 가져올 수 있는 리뷰의 최대 개수\n",
    "            'cursor': cursor, # 페이지 네이션 처리를 위함\n",
    "            'filter': 'all',\n",
    "            'language': 'koreana',\n",
    "            'review_type': 'all',\n",
    "            'purchase_type': 'all',\n",
    "        }\n",
    "        response = requests.get(url, params=params)\n",
    "        data = response.json()\n",
    "\n",
    "        if data.get('success') != 1:\n",
    "            break\n",
    "\n",
    "        reviews.extend(data.get('reviews', []))  # 리뷰 데이터 추가\n",
    "\n",
    "        # 다음 페이지로 이동하기 위한 cursor 업데이트\n",
    "        cursor = data.get('cursor')\n",
    "\n",
    "        # 리뷰가 더 이상 없으면 중단\n",
    "        if not cursor or len(data['reviews']) < num_per_page:\n",
    "            break\n",
    "\n",
    "    return reviews\n",
    "\n",
    "all_reviews = get_steam_reviews(get_game_app_id(game_url))\n",
    "\n",
    "# 리뷰 개수 출력\n",
    "print(f\"총 리뷰 개수: {len(all_reviews)}\")\n"
   ]
  },
  {
   "cell_type": "code",
   "execution_count": 33,
   "metadata": {},
   "outputs": [
    {
     "name": "stdout",
     "output_type": "stream",
     "text": [
      "{'recommendationid': '174404011', 'author': {'steamid': '76561198148454245', 'num_games_owned': 0, 'num_reviews': 13, 'playtime_forever': 1490, 'playtime_last_two_weeks': 101, 'playtime_at_review': 1389, 'last_played': 1726160778}, 'language': 'koreana', 'review': '8 / 10 ★★★★★★★★☆☆\\r\\n\\r\\n흐물흐물 협동 탈출 게임입니다.\\r\\n뇌지컬과 약간의 피지컬을 곁들여 퍼즐을 풀고 챕터를 클리어하면 됩니다.\\r\\n맵 특성상 1인 플레이는 힘들기 때문에 친구가 필요해요. 많으면 많을수록 좋지만 두 명이면 클리어하기에 충분합니다.\\r\\n유저가 제작한 커스텀 맵도 있어서 꾸준히 즐기기에 좋은 게임입니다!', 'timestamp_created': 1725676603, 'timestamp_updated': 1725676603, 'voted_up': True, 'votes_up': 2, 'votes_funny': 0, 'weighted_vote_score': '0.525155425071716309', 'comment_count': 0, 'steam_purchase': True, 'received_for_free': False, 'written_during_early_access': False, 'hidden_in_steam_china': True, 'steam_china_location': '', 'primarily_steam_deck': False}\n"
     ]
    }
   ],
   "source": [
    "print(all_reviews[1])"
   ]
  },
  {
   "cell_type": "code",
   "execution_count": 32,
   "metadata": {},
   "outputs": [
    {
     "name": "stdout",
     "output_type": "stream",
     "text": [
      "8 / 10 ★★★★★★★★☆☆\n",
      "\n",
      "흐물흐물 협동 탈출 게임입니다.\n",
      "뇌지컬과 약간의 피지컬을 곁들여 퍼즐을 풀고 챕터를 클리어하면 됩니다.\n",
      "맵 특성상 1인 플레이는 힘들기 때문에 친구가 필요해요. 많으면 많을수록 좋지만 두 명이면 클리어하기에 충분합니다.\n",
      "유저가 제작한 커스텀 맵도 있어서 꾸준히 즐기기에 좋은 게임입니다!\n"
     ]
    }
   ],
   "source": [
    "print(all_reviews[1]['review'])"
   ]
  },
  {
   "cell_type": "code",
   "execution_count": null,
   "metadata": {},
   "outputs": [],
   "source": []
  }
 ],
 "metadata": {
  "kernelspec": {
   "display_name": "tensor",
   "language": "python",
   "name": "tensor"
  },
  "language_info": {
   "codemirror_mode": {
    "name": "ipython",
    "version": 3
   },
   "file_extension": ".py",
   "mimetype": "text/x-python",
   "name": "python",
   "nbconvert_exporter": "python",
   "pygments_lexer": "ipython3",
   "version": "3.7.15"
  }
 },
 "nbformat": 4,
 "nbformat_minor": 2
}
